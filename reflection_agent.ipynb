{
 "cells": [
  {
   "cell_type": "code",
   "execution_count": 1,
   "id": "f69c6dc7",
   "metadata": {},
   "outputs": [],
   "source": [
    "from langchain_core.prompts import ChatPromptTemplate, MessagesPlaceholder\n",
    "from langchain_groq import ChatGroq"
   ]
  },
  {
   "cell_type": "code",
   "execution_count": 2,
   "id": "2b0ab243",
   "metadata": {},
   "outputs": [
    {
     "data": {
      "text/plain": [
       "AIMessage(content=\"Hi! It's nice to meet you. Is there something I can help you with or would you like to chat?\", additional_kwargs={}, response_metadata={'token_usage': {'completion_tokens': 25, 'prompt_tokens': 11, 'total_tokens': 36, 'completion_time': 0.074015883, 'prompt_time': 0.000126468, 'queue_time': 0.150781038, 'total_time': 0.074142351}, 'model_name': 'llama3-70b-8192', 'system_fingerprint': 'fp_bf16903a67', 'finish_reason': 'stop', 'logprobs': None}, id='run--9ea30b1f-4144-4a8a-a207-25ec3482fe28-0', usage_metadata={'input_tokens': 11, 'output_tokens': 25, 'total_tokens': 36})"
      ]
     },
     "execution_count": 2,
     "metadata": {},
     "output_type": "execute_result"
    }
   ],
   "source": [
    "llm = ChatGroq(model=\"llama3-70b-8192\")\n",
    "llm.invoke(\"hi\")"
   ]
  },
  {
   "cell_type": "code",
   "execution_count": 3,
   "id": "4ee92ad9",
   "metadata": {},
   "outputs": [],
   "source": [
    "generation_prompt = ChatPromptTemplate.from_messages([\n",
    "    (\"system\",\n",
    "     \"You are a twitter techie influencer assistant tasked with writing excellent twitter posts.\"\n",
    "     \"Generate the best twitter post possible for the user's request.\"\n",
    "     \"If the user provides critique, respond with a revised version of your previous attempts.\"\n",
    "     ),\n",
    "     MessagesPlaceholder(variable_name=\"messages\"),\n",
    "])"
   ]
  },
  {
   "cell_type": "code",
   "execution_count": 4,
   "id": "560e5bff",
   "metadata": {},
   "outputs": [],
   "source": [
    "reflection_prompt = ChatPromptTemplate.from_messages(\n",
    "    [\n",
    "        (\n",
    "            \"system\",\n",
    "            \"You are a viral twitter influencer grading a tweet. Generate critique and recommendations for the user's tweet.\"\n",
    "            \"Always provide detailed recommendations, including requests for length, virality, style, etc.\",\n",
    "        ),\n",
    "        MessagesPlaceholder(variable_name=\"messages\"),\n",
    "    ]\n",
    ")\n",
    "\n",
    "llm = ChatGroq(model=\"llama3-70b-8192\")"
   ]
  },
  {
   "cell_type": "code",
   "execution_count": 5,
   "id": "506d0e00",
   "metadata": {},
   "outputs": [],
   "source": [
    "generation_chain = generation_prompt | llm\n",
    "reflection_chain = reflection_prompt | llm"
   ]
  },
  {
   "cell_type": "code",
   "execution_count": 6,
   "id": "381f7c49",
   "metadata": {},
   "outputs": [],
   "source": [
    "from typing import List, Sequence\n",
    "from langchain_core.messages import HumanMessage, BaseMessage\n",
    "from langgraph.graph import END, MessageGraph\n",
    "\n"
   ]
  },
  {
   "cell_type": "code",
   "execution_count": 7,
   "id": "2bc55273",
   "metadata": {},
   "outputs": [],
   "source": [
    "REFLECT = \"reflect\"\n",
    "GENERATE = \"generate\"\n",
    "graph = MessageGraph()"
   ]
  },
  {
   "cell_type": "code",
   "execution_count": 8,
   "id": "19352e3c",
   "metadata": {},
   "outputs": [
    {
     "data": {
      "text/plain": [
       "<langgraph.graph.message.MessageGraph at 0x2300f1e57f0>"
      ]
     },
     "execution_count": 8,
     "metadata": {},
     "output_type": "execute_result"
    }
   ],
   "source": [
    "def generate_node(state):\n",
    "    return generation_chain.invoke({\n",
    "        \"messages\": state\n",
    "    })\n",
    "\n",
    "\n",
    "def reflect_node(messages):\n",
    "    response = reflection_chain.invoke({\n",
    "        \"messages\": messages\n",
    "    })\n",
    "    return [HumanMessage(content=response.content)]\n",
    "\n",
    "\n",
    "graph.add_node(GENERATE, generate_node)\n",
    "graph.add_node(REFLECT, reflect_node)\n",
    "graph.set_entry_point(GENERATE)\n"
   ]
  },
  {
   "cell_type": "code",
   "execution_count": 9,
   "id": "57874c1d",
   "metadata": {},
   "outputs": [
    {
     "data": {
      "text/plain": [
       "<langgraph.graph.message.MessageGraph at 0x2300f1e57f0>"
      ]
     },
     "execution_count": 9,
     "metadata": {},
     "output_type": "execute_result"
    }
   ],
   "source": [
    "def should_continue(state):\n",
    "    if (len(state) > 6):\n",
    "        return END \n",
    "    return REFLECT\n",
    "\n",
    "\n",
    "graph.add_conditional_edges(GENERATE, should_continue)\n",
    "graph.add_edge(REFLECT, GENERATE)"
   ]
  },
  {
   "cell_type": "code",
   "execution_count": 10,
   "id": "98c71d28",
   "metadata": {},
   "outputs": [
    {
     "data": {
      "image/png": "[encoded data removed]",
      "text/plain": [
       "<IPython.core.display.Image object>"
      ]
     },
     "metadata": {},
     "output_type": "display_data"
    }
   ],
   "source": [
    "app = graph.compile()\n",
    "from IPython.display import Image, display\n",
    "try:\n",
    "    display(Image(app.get_graph().draw_mermaid_png()))\n",
    "except Exception as e:\n",
    "    # This requires some extra dependencies and is optional\n",
    "    print(e)"
   ]
  },
  {
   "cell_type": "code",
   "execution_count": 11,
   "id": "b3becdd7",
   "metadata": {},
   "outputs": [
    {
     "name": "stdout",
     "output_type": "stream",
     "text": [
      "[HumanMessage(content='AI Agents taking over content creation', additional_kwargs={}, response_metadata={}, id='da8ce709-b05e-4ae6-8e9a-8e195d8d0371'), AIMessage(content='Here\\'s a possible Twitter post:\\n\\n\"Revolution in the making? AI agents are increasingly taking over content creation! From writing articles to generating art, the lines between human and machine creativity are blurring. What does this mean for the future of digital media? Share your thoughts! #AIinContent #FutureOfWork\"\\n\\nHow\\'s that? Would you like me to revise anything?', additional_kwargs={}, response_metadata={'token_usage': {'completion_tokens': 77, 'prompt_tokens': 63, 'total_tokens': 140, 'completion_time': 0.328964626, 'prompt_time': 0.001621795, 'queue_time': 0.15018373999999998, 'total_time': 0.330586421}, 'model_name': 'llama3-70b-8192', 'system_fingerprint': 'fp_bf16903a67', 'finish_reason': 'stop', 'logprobs': None}, id='run--c7ffd25e-4763-4bac-b128-8d2548f45673-0', usage_metadata={'input_tokens': 63, 'output_tokens': 77, 'total_tokens': 140}), HumanMessage(content='', additional_kwargs={}, response_metadata={}, id='a4b7b19d-7871-4876-8467-a12d5651665b'), AIMessage(content='You didn\\'t provide any feedback, so I\\'ll assume you want me to try a different approach. Here\\'s an alternative Twitter post:\\n\\n\"Content shockwave alert! AI agents are rapidly advancing in content creation, threatening to upend traditional industries. But will they augment or replace human creativity? Let\\'s explore the possibilities and implications! #AIvsHuman #ContentRevolution\"\\n\\nWould you like me to revise anything or try another approach?', additional_kwargs={}, response_metadata={'token_usage': {'completion_tokens': 88, 'prompt_tokens': 149, 'total_tokens': 237, 'completion_time': 0.452468038, 'prompt_time': 0.004717038, 'queue_time': 0.15822526, 'total_time': 0.457185076}, 'model_name': 'llama3-70b-8192', 'system_fingerprint': 'fp_bf16903a67', 'finish_reason': 'stop', 'logprobs': None}, id='run--ef2359f5-2347-42c6-888c-4f0793915160-0', usage_metadata={'input_tokens': 149, 'output_tokens': 88, 'total_tokens': 237}), HumanMessage(content='', additional_kwargs={}, response_metadata={}, id='45c96dc8-d2ce-448a-8bfa-36113d8e6104'), AIMessage(content='You didn\\'t provide any feedback again, so I\\'ll try a different approach. Here\\'s another Twitter post:\\n\\n\"Who\\'s the real creator? AI agents are generating content at an unprecedented scale, raising questions about authorship, accountability, and the future of human creativity. Join the conversation and let\\'s explore the ethics of AI-generated content! #AIethics #ContentCreator\"\\n\\nWould you like me to revise anything or try another approach?', additional_kwargs={}, response_metadata={'token_usage': {'completion_tokens': 89, 'prompt_tokens': 246, 'total_tokens': 335, 'completion_time': 0.393873299, 'prompt_time': 0.007666702, 'queue_time': 0.151384987, 'total_time': 0.401540001}, 'model_name': 'llama3-70b-8192', 'system_fingerprint': 'fp_bf16903a67', 'finish_reason': 'stop', 'logprobs': None}, id='run--135e8d2e-f06d-4ad4-9a0c-645604bcf9a0-0', usage_metadata={'input_tokens': 246, 'output_tokens': 89, 'total_tokens': 335}), HumanMessage(content='', additional_kwargs={}, response_metadata={}, id='b76c7cf3-09da-4478-a341-b404e6f13baf'), AIMessage(content='You didn\\'t provide any feedback again, so I\\'ll try a different approach. Here\\'s another Twitter post:\\n\\n\"AI-generated content: friend or foe? On one hand, it\\'s augmenting human capabilities. On the other, it\\'s raising questions about authenticity and job displacement. Where do you stand? Share your thoughts and let\\'s navigate the pros and cons together! #AIinMedia #ContentDebate\"\\n\\nWould you like me to revise anything or try another approach?', additional_kwargs={}, response_metadata={'token_usage': {'completion_tokens': 96, 'prompt_tokens': 344, 'total_tokens': 440, 'completion_time': 0.371314476, 'prompt_time': 0.018093592, 'queue_time': 0.15049980400000001, 'total_time': 0.389408068}, 'model_name': 'llama3-70b-8192', 'system_fingerprint': 'fp_bf16903a67', 'finish_reason': 'stop', 'logprobs': None}, id='run--eee0e2dd-269c-492a-a2e3-2d74fd164627-0', usage_metadata={'input_tokens': 344, 'output_tokens': 96, 'total_tokens': 440})]\n"
     ]
    }
   ],
   "source": [
    "response = app.invoke(HumanMessage(content=\"AI Agents taking over content creation\"))\n",
    "print(response)"
   ]
  }
 ],
 "metadata": {
  "kernelspec": {
   "display_name": "venv",
   "language": "python",
   "name": "python3"
  },
  "language_info": {
   "codemirror_mode": {
    "name": "ipython",
    "version": 3
   },
   "file_extension": ".py",
   "mimetype": "text/x-python",
   "name": "python",
   "nbconvert_exporter": "python",
   "pygments_lexer": "ipython3",
   "version": "3.13.2"
  }
 },
 "nbformat": 4,
 "nbformat_minor": 5
}
