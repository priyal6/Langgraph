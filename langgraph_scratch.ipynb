{
 "cells": [
  {
   "cell_type": "code",
   "execution_count": 10,
   "id": "864d646c",
   "metadata": {},
   "outputs": [],
   "source": [
    "def function_1(input_1):\n",
    "    return input_1 + \"First Function\"\n",
    "def function_2(input_2):\n",
    "    return input_2 + \"Second Function\""
   ]
  },
  {
   "cell_type": "code",
   "execution_count": null,
   "id": "f24ea3b3",
   "metadata": {},
   "outputs": [],
   "source": []
  },
  {
   "cell_type": "code",
   "execution_count": 6,
   "id": "fe106db6",
   "metadata": {},
   "outputs": [],
   "source": [
    "from langgraph.graph import Graph\n",
    "\n",
    "workflow = Graph()\n",
    "\n",
    "workflow.add_node(\"node_1\", function_1)\n",
    "workflow.add_node(\"node_2\", function_2)\n",
    "\n",
    "workflow.add_edge('node_1', 'node_2')\n",
    "\n",
    "workflow.set_entry_point(\"node_1\")\n",
    "workflow.set_finish_point(\"node_2\")\n",
    "\n",
    "app = workflow.compile()"
   ]
  },
  {
   "cell_type": "code",
   "execution_count": 3,
   "id": "0b5f2c38",
   "metadata": {},
   "outputs": [
    {
     "data": {
      "text/plain": [
       "'I am moving fromFirst FunctionSecond Function'"
      ]
     },
     "execution_count": 3,
     "metadata": {},
     "output_type": "execute_result"
    }
   ],
   "source": [
    "app.invoke('I am moving from')"
   ]
  },
  {
   "cell_type": "code",
   "execution_count": 2,
   "id": "51ab0d4d",
   "metadata": {},
   "outputs": [
    {
     "data": {
      "text/plain": [
       "AIMessage(content=\"Hi! It's nice to meet you. Is there something I can help you with, or would you like to chat?\", additional_kwargs={}, response_metadata={'token_usage': {'completion_tokens': 26, 'prompt_tokens': 11, 'total_tokens': 37, 'completion_time': 0.074285714, 'prompt_time': 0.000123918, 'queue_time': 0.094131327, 'total_time': 0.074409632}, 'model_name': 'llama3-70b-8192', 'system_fingerprint': 'fp_dd4ae1c591', 'finish_reason': 'stop', 'logprobs': None}, id='run--0592c1e0-836c-45d7-aa53-baebb7814e48-0', usage_metadata={'input_tokens': 11, 'output_tokens': 26, 'total_tokens': 37})"
      ]
     },
     "execution_count": 2,
     "metadata": {},
     "output_type": "execute_result"
    }
   ],
   "source": [
    "#LLM WITH LANGGRAPH\n",
    "from langchain_groq import ChatGroq\n",
    "llm = ChatGroq(model_name = \"llama3-70b-8192\")\n",
    "llm.invoke(\"hi\")"
   ]
  },
  {
   "cell_type": "code",
   "execution_count": 4,
   "id": "533f5c04",
   "metadata": {},
   "outputs": [],
   "source": [
    "def function_1(input_1):\n",
    "    complete_query = \"Your task is to provide only the topic based on the user query. \\\n",
    "        Only output the topic among: [Japan , Sports]. Don't include reasoning. Following is the user query: \" + input_1\n",
    "    response = llm.invoke(complete_query)\n",
    "    return response.content\n",
    "def function_2(input_2):\n",
    "    TOPIC_UPPER = input_2.upper()\n",
    "    response =f\"Here is the topic in upper case: {TOPIC_UPPER}\"\n",
    "    return response"
   ]
  },
  {
   "cell_type": "code",
   "execution_count": 7,
   "id": "7d1abc44",
   "metadata": {},
   "outputs": [],
   "source": [
    "workflow = Graph()\n",
    "\n",
    "workflow.add_node(\"Agent\", function_1)\n",
    "workflow.add_node(\"Tool\", function_2)\n",
    "\n",
    "workflow.add_edge('Agent', 'Tool')\n",
    "\n",
    "workflow.set_entry_point('Agent')\n",
    "workflow.set_finish_point('Tool')\n",
    "\n",
    "app = workflow.compile()"
   ]
  },
  {
   "cell_type": "code",
   "execution_count": 8,
   "id": "4a333d56",
   "metadata": {},
   "outputs": [
    {
     "data": {
      "text/plain": [
       "'Here is the topic in upper case: JAPAN'"
      ]
     },
     "execution_count": 8,
     "metadata": {},
     "output_type": "execute_result"
    }
   ],
   "source": [
    "query = \"Tell me about Japan's Industrial Growth\"\n",
    "app.invoke(query)"
   ]
  },
  {
   "cell_type": "code",
   "execution_count": 9,
   "id": "9996afcb",
   "metadata": {},
   "outputs": [
    {
     "name": "stdout",
     "output_type": "stream",
     "text": [
      "Output from node 'Agent':\n",
      "---\n",
      "Japan\n",
      "\n",
      "---\n",
      "\n",
      "Output from node 'Tool':\n",
      "---\n",
      "Here is the topic in upper case: JAPAN\n",
      "\n",
      "---\n",
      "\n"
     ]
    }
   ],
   "source": [
    "for output in app.stream(query):\n",
    "    for key, value in output.items():\n",
    "        print(f\"Output from node '{key}':\")\n",
    "        print(\"---\")\n",
    "        print(value)\n",
    "    print(\"\\n---\\n\")"
   ]
  },
  {
   "cell_type": "code",
   "execution_count": 12,
   "id": "038fbb58",
   "metadata": {},
   "outputs": [
    {
     "data": {
      "image/png": "[encoded data removed]",
      "text/plain": [
       "<IPython.core.display.Image object>"
      ]
     },
     "metadata": {},
     "output_type": "display_data"
    }
   ],
   "source": [
    "from IPython.display import Image, display\n",
    "\n",
    "try:\n",
    "    display(Image(app.get_graph().draw_mermaid_png()))\n",
    "except Exception as e:\n",
    "    print(e)"
   ]
  },
  {
   "cell_type": "markdown",
   "id": "3a0eb533",
   "metadata": {},
   "source": [
    "#workflow2 phase 2"
   ]
  },
  {
   "cell_type": "code",
   "execution_count": 2,
   "id": "56c0ae58",
   "metadata": {},
   "outputs": [
    {
     "data": {
      "text/plain": [
       "\"Hi! It's nice to meet you. Is there something I can help you with, or would you like to chat?\""
      ]
     },
     "execution_count": 2,
     "metadata": {},
     "output_type": "execute_result"
    }
   ],
   "source": [
    "from langchain_groq import ChatGroq\n",
    "llm=ChatGroq(model_name=\"llama3-70b-8192\")\n",
    "llm.invoke(\"hi\").content"
   ]
  },
  {
   "cell_type": "code",
   "execution_count": 3,
   "id": "2b1f4b18",
   "metadata": {},
   "outputs": [
    {
     "name": "stderr",
     "output_type": "stream",
     "text": [
      "C:\\Users\\priya\\AppData\\Local\\Temp\\ipykernel_1832\\1467528996.py:6: LangChainDeprecationWarning: The class `HuggingFaceBgeEmbeddings` was deprecated in LangChain 0.2.2 and will be removed in 1.0. An updated version of the class exists in the :class:`~langchain-huggingface package and should be used instead. To use it run `pip install -U :class:`~langchain-huggingface` and import as `from :class:`~langchain_huggingface import HuggingFaceEmbeddings``.\n",
      "  embeddings = HuggingFaceBgeEmbeddings(\n",
      "c:\\Users\\priya\\Downloads\\test\\venv\\Lib\\site-packages\\tqdm\\auto.py:21: TqdmWarning: IProgress not found. Please update jupyter and ipywidgets. See https://ipywidgets.readthedocs.io/en/stable/user_install.html\n",
      "  from .autonotebook import tqdm as notebook_tqdm\n"
     ]
    }
   ],
   "source": [
    "from langchain.embeddings import HuggingFaceBgeEmbeddings\n",
    "\n",
    "model_name = \"BAAI/bge-base-en-v1.5\"\n",
    "model_kwargs = {'device': 'cpu'}\n",
    "encode_kwargs = {'normalize_embeddings': True} # set True to compute cosine similarity\n",
    "embeddings = HuggingFaceBgeEmbeddings(\n",
    "    model_name=model_name,\n",
    "    model_kwargs=model_kwargs,\n",
    "    encode_kwargs=encode_kwargs,)"
   ]
  },
  {
   "cell_type": "code",
   "execution_count": 4,
   "id": "fc4bfae7",
   "metadata": {},
   "outputs": [],
   "source": [
    "def function_1(input):\n",
    "    llm = ChatGroq(model_name=\"llama3-70b-8192\")\n",
    "    response = llm.invoke(input).content\n",
    "    return response\n",
    "def function_2(input):\n",
    "    upper_case = input.upper()\n",
    "    return upper_case"
   ]
  },
  {
   "cell_type": "code",
   "execution_count": 33,
   "id": "2ba0ca7c",
   "metadata": {},
   "outputs": [
    {
     "data": {
      "text/plain": [
       "<langgraph.graph.graph.Graph at 0x2a69f932fd0>"
      ]
     },
     "execution_count": 33,
     "metadata": {},
     "output_type": "execute_result"
    }
   ],
   "source": [
    "from langgraph.graph import Graph\n",
    "workflow2 = Graph()\n",
    "workflow2.add_node(\"llm\", function_1)\n",
    "workflow2.add_node(\"upper_string\", function_2)\n",
    "\n",
    "workflow2.add_edge(\"llm\",\"upper_string\")\n",
    "\n",
    "workflow2.set_entry_point(\"llm\")\n",
    "workflow2.set_finish_point(\"upper_string\")"
   ]
  },
  {
   "cell_type": "code",
   "execution_count": 34,
   "id": "c9fdf821",
   "metadata": {},
   "outputs": [],
   "source": [
    "app2 = workflow2.compile()"
   ]
  },
  {
   "cell_type": "code",
   "execution_count": 35,
   "id": "2d338a5a",
   "metadata": {},
   "outputs": [
    {
     "data": {
      "text/plain": [
       "'THE FIRST PRIME MINISTER OF INDIA WAS JAWAHARLAL NEHRU.'"
      ]
     },
     "execution_count": 35,
     "metadata": {},
     "output_type": "execute_result"
    }
   ],
   "source": [
    "app2.invoke(\"what is a name of first indian prime minister?\")"
   ]
  },
  {
   "cell_type": "code",
   "execution_count": 37,
   "id": "a34bfa6d",
   "metadata": {},
   "outputs": [
    {
     "data": {
      "image/png": "[encoded data removed]",
      "text/plain": [
       "<IPython.core.display.Image object>"
      ]
     },
     "metadata": {},
     "output_type": "display_data"
    }
   ],
   "source": [
    "from IPython.display import Image, display\n",
    "try:\n",
    "    display(Image(app2.get_graph().draw_mermaid_png()))\n",
    "except Exception as e:\n",
    "    print(e)"
   ]
  },
  {
   "cell_type": "code",
   "execution_count": 1,
   "id": "087334ad",
   "metadata": {},
   "outputs": [],
   "source": [
    "#workflow3 \n",
    "def function3(input):\n",
    "    token = input.split()\n",
    "    token_number = len(token)\n",
    "    token_number=f\"total token number is {token_number}\"\n",
    "    return token_number"
   ]
  },
  {
   "cell_type": "code",
   "execution_count": 6,
   "id": "4c84e02e",
   "metadata": {},
   "outputs": [],
   "source": [
    "from langgraph.graph import Graph\n",
    "\n",
    "workflow3= Graph()\n",
    "workflow3.add_node(\"llm\", function_1)\n",
    "workflow3.add_node(\"token_counter\", function3)\n",
    "workflow3.add_edge(\"llm\",\"token_counter\")\n",
    "workflow3.set_entry_point(\"llm\")\n",
    "workflow3.set_finish_point(\"token_counter\")\n",
    "app3 = workflow3.compile()"
   ]
  },
  {
   "cell_type": "code",
   "execution_count": 7,
   "id": "b3334e73",
   "metadata": {},
   "outputs": [
    {
     "data": {
      "image/png": "[encoded data removed]",
      "text/plain": [
       "<IPython.core.display.Image object>"
      ]
     },
     "metadata": {},
     "output_type": "display_data"
    }
   ],
   "source": [
    "from IPython.display import Image, display\n",
    "try:\n",
    "    display(Image(app3.get_graph().draw_mermaid_png()))\n",
    "except Exception as e:\n",
    "    print(e)"
   ]
  },
  {
   "cell_type": "code",
   "execution_count": 8,
   "id": "bffa54f1",
   "metadata": {},
   "outputs": [
    {
     "data": {
      "text/plain": [
       "'total token number is 7'"
      ]
     },
     "execution_count": 8,
     "metadata": {},
     "output_type": "execute_result"
    }
   ],
   "source": [
    "app3.invoke(\"What is the captial of India?\")"
   ]
  }
 ],
 "metadata": {
  "kernelspec": {
   "display_name": "venv",
   "language": "python",
   "name": "python3"
  },
  "language_info": {
   "codemirror_mode": {
    "name": "ipython",
    "version": 3
   },
   "file_extension": ".py",
   "mimetype": "text/x-python",
   "name": "python",
   "nbconvert_exporter": "python",
   "pygments_lexer": "ipython3",
   "version": "3.13.2"
  }
 },
 "nbformat": 4,
 "nbformat_minor": 5
}
