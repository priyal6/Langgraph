{
 "cells": [
  {
   "cell_type": "code",
   "execution_count": 3,
   "id": "0990f034",
   "metadata": {},
   "outputs": [
    {
     "name": "stdout",
     "output_type": "stream",
     "text": [
      "Step 1: Processing 'Hello World'\n",
      "Step 2: Enhancing 'Processed: Hello World\n",
      "\n",
      "Final result: {'input': 'Hello World', 'output': 'Enhanced: Processed: Hello World', 'step_count': 1}\n",
      "Steps completed: 1\n"
     ]
    }
   ],
   "source": [
    "from typing import TypedDict\n",
    "from langgraph.graph import StateGraph, END\n",
    "\n",
    "class State(TypedDict):\n",
    "    input: str\n",
    "    output: str\n",
    "    step_count: int\n",
    "\n",
    "def step_1(state: State):\n",
    "    \"\"\"First processing step\"\"\"\n",
    "    print(f\"Step 1: Processing '{state['input']}'\")\n",
    "    return {\n",
    "        \"output\": f\"Processed: {state['input']}\",\n",
    "        \"step_output\": 1\n",
    "    }\n",
    "\n",
    "def step_2(state: State):\n",
    "    \"\"\"Second processing step\"\"\"\n",
    "    print(f\"Step 2: Enhancing '{state['output']}\")\n",
    "    return {\n",
    "         \"output\": f\"Enhanced: {state['output']}\",\n",
    "         \"step_count\": state['step_count'] + 1\n",
    "\n",
    "    }\n",
    "\n",
    "graph = StateGraph(State)\n",
    "\n",
    "\n",
    "graph.add_node(\"process\", step_1)\n",
    "graph.add_node(\"enhance\", step_2)\n",
    "\n",
    "graph.add_edge(\"process\", \"enhance\")\n",
    "graph.add_edge(\"enhance\", END)\n",
    "\n",
    "\n",
    "graph.set_entry_point(\"process\")\n",
    "\n",
    "app = graph.compile()\n",
    "\n",
    "\n",
    "if __name__ == \"__main__\":\n",
    "    result = app.invoke({\n",
    "        \"input\": \"Hello World\",\n",
    "        \"output\": \"\",\n",
    "        \"step_count\": 0 \n",
    "    })\n",
    "    print(f\"\\nFinal result: {result}\")\n",
    "    print(f\"Steps completed: {result['step_count']}\")"
   ]
  }
 ],
 "metadata": {
  "kernelspec": {
   "display_name": "venv",
   "language": "python",
   "name": "python3"
  },
  "language_info": {
   "codemirror_mode": {
    "name": "ipython",
    "version": 3
   },
   "file_extension": ".py",
   "mimetype": "text/x-python",
   "name": "python",
   "nbconvert_exporter": "python",
   "pygments_lexer": "ipython3",
   "version": "3.13.2"
  }
 },
 "nbformat": 4,
 "nbformat_minor": 5
}
