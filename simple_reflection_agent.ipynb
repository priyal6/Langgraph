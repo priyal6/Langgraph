{
 "cells": [
  {
   "cell_type": "code",
   "execution_count": 1,
   "id": "f69c6dc7",
   "metadata": {},
   "outputs": [],
   "source": [
    "from langchain_core.prompts import ChatPromptTemplate, MessagesPlaceholder\n",
    "from langchain_groq import ChatGroq"
   ]
  },
  {
   "cell_type": "code",
   "execution_count": 2,
   "id": "2b0ab243",
   "metadata": {},
   "outputs": [
    {
     "data": {
      "text/plain": [
       "AIMessage(content=\"Hi! It's nice to meet you. Is there something I can help you with or would you like to chat?\", additional_kwargs={}, response_metadata={'token_usage': {'completion_tokens': 25, 'prompt_tokens': 11, 'total_tokens': 36, 'completion_time': 0.075148405, 'prompt_time': 0.000120199, 'queue_time': 0.151277617, 'total_time': 0.075268604}, 'model_name': 'llama3-70b-8192', 'system_fingerprint': 'fp_bf16903a67', 'finish_reason': 'stop', 'logprobs': None}, id='run--b40b6b9a-8ef4-485a-bee3-a4aa47190519-0', usage_metadata={'input_tokens': 11, 'output_tokens': 25, 'total_tokens': 36})"
      ]
     },
     "execution_count": 2,
     "metadata": {},
     "output_type": "execute_result"
    }
   ],
   "source": [
    "llm = ChatGroq(model=\"llama3-70b-8192\")\n",
    "llm.invoke(\"hi\")"
   ]
  },
  {
   "cell_type": "code",
   "execution_count": 3,
   "id": "4ee92ad9",
   "metadata": {},
   "outputs": [],
   "source": [
    "generation_prompt = ChatPromptTemplate.from_messages([\n",
    "    (\"system\",\n",
    "     \"You are a twitter techie influencer assistant tasked with writing excellent twitter posts.\"\n",
    "     \"Generate the best twitter post possible for the user's request.\"\n",
    "     \"If the user provides critique, respond with a revised version of your previous attempts.\"\n",
    "     ),\n",
    "     MessagesPlaceholder(variable_name=\"messages\"),\n",
    "])"
   ]
  },
  {
   "cell_type": "code",
   "execution_count": 4,
   "id": "560e5bff",
   "metadata": {},
   "outputs": [],
   "source": [
    "reflection_prompt = ChatPromptTemplate.from_messages(\n",
    "    [\n",
    "        (\n",
    "            \"system\",\n",
    "            \"You are a viral twitter influencer grading a tweet. Generate critique and recommendations for the user's tweet.\"\n",
    "            \"Always provide detailed recommendations, including requests for length, virality, style, etc.\",\n",
    "        ),\n",
    "        MessagesPlaceholder(variable_name=\"messages\"),\n",
    "    ]\n",
    ")\n",
    "\n",
    "llm = ChatGroq(model=\"llama3-70b-8192\")"
   ]
  },
  {
   "cell_type": "code",
   "execution_count": 5,
   "id": "506d0e00",
   "metadata": {},
   "outputs": [],
   "source": [
    "generation_chain = generation_prompt | llm\n",
    "reflection_chain = reflection_prompt | llm"
   ]
  },
  {
   "cell_type": "code",
   "execution_count": 6,
   "id": "381f7c49",
   "metadata": {},
   "outputs": [],
   "source": [
    "from typing import List, Sequence\n",
    "from langchain_core.messages import HumanMessage, BaseMessage\n",
    "from langgraph.graph import END, MessageGraph\n",
    "\n"
   ]
  },
  {
   "cell_type": "code",
   "execution_count": 7,
   "id": "2bc55273",
   "metadata": {},
   "outputs": [],
   "source": [
    "REFLECT = \"reflect\"\n",
    "GENERATE = \"generate\"\n",
    "graph = MessageGraph()"
   ]
  },
  {
   "cell_type": "code",
   "execution_count": 8,
   "id": "19352e3c",
   "metadata": {},
   "outputs": [
    {
     "data": {
      "text/plain": [
       "<langgraph.graph.message.MessageGraph at 0x115b18057f0>"
      ]
     },
     "execution_count": 8,
     "metadata": {},
     "output_type": "execute_result"
    }
   ],
   "source": [
    "def generate_node(state):\n",
    "    return generation_chain.invoke({\n",
    "        \"messages\": state\n",
    "    })\n",
    "\n",
    "\n",
    "def reflect_node(messages):\n",
    "    response = reflection_chain.invoke({\n",
    "        \"messages\": messages\n",
    "    })\n",
    "    return [HumanMessage(content=response.content)]\n",
    "\n",
    "\n",
    "graph.add_node(GENERATE, generate_node)\n",
    "graph.add_node(REFLECT, reflect_node)\n",
    "graph.set_entry_point(GENERATE)\n"
   ]
  },
  {
   "cell_type": "code",
   "execution_count": 9,
   "id": "57874c1d",
   "metadata": {},
   "outputs": [
    {
     "data": {
      "text/plain": [
       "<langgraph.graph.message.MessageGraph at 0x115b18057f0>"
      ]
     },
     "execution_count": 9,
     "metadata": {},
     "output_type": "execute_result"
    }
   ],
   "source": [
    "def should_continue(state):\n",
    "    if (len(state) > 6):\n",
    "        return END \n",
    "    return REFLECT\n",
    "\n",
    "\n",
    "graph.add_conditional_edges(GENERATE, should_continue)\n",
    "graph.add_edge(REFLECT, GENERATE)"
   ]
  },
  {
   "cell_type": "code",
   "execution_count": 10,
   "id": "98c71d28",
   "metadata": {},
   "outputs": [
    {
     "data": {
      "image/png": "[encoded data removed]",
      "text/plain": [
       "<IPython.core.display.Image object>"
      ]
     },
     "metadata": {},
     "output_type": "display_data"
    }
   ],
   "source": [
    "app = graph.compile()\n",
    "from IPython.display import Image, display\n",
    "try:\n",
    "    display(Image(app.get_graph().draw_mermaid_png()))\n",
    "except Exception as e:\n",
    "    # This requires some extra dependencies and is optional\n",
    "    print(e)"
   ]
  },
  {
   "cell_type": "code",
   "execution_count": 11,
   "id": "b3becdd7",
   "metadata": {},
   "outputs": [
    {
     "name": "stdout",
     "output_type": "stream",
     "text": [
      "[HumanMessage(content='AI Agents taking over content creation', additional_kwargs={}, response_metadata={}, id='61c5545e-24fc-4d4d-8f17-723ab908f6d4'), AIMessage(content=\"Here's a possible Twitter post:\\n\\nBREAKING: AI Agents are REVOLUTIONIZING Content Creation! From writing articles to generating art, AI is taking the creative reins! But what does this mean for human creators? Will AI augment our abilities or replace us altogether? Share your thoughts! #AIinContent #FutureOfWork\\n\\nPlease let me know if you'd like me to revise anything!\", additional_kwargs={}, response_metadata={'token_usage': {'completion_tokens': 79, 'prompt_tokens': 63, 'total_tokens': 142, 'completion_time': 0.313271056, 'prompt_time': 0.001625596, 'queue_time': 0.15168516499999998, 'total_time': 0.314896652}, 'model_name': 'llama3-70b-8192', 'system_fingerprint': 'fp_bf16903a67', 'finish_reason': 'stop', 'logprobs': None}, id='run--ba1abc06-635e-4372-a62e-d242fa303e80-0', usage_metadata={'input_tokens': 63, 'output_tokens': 79, 'total_tokens': 142}), HumanMessage(content='', additional_kwargs={}, response_metadata={}, id='d8489e6e-a6dd-4575-92bc-534c16388416'), AIMessage(content=\"You didn't provide any feedback, but I'll assume you want me to try a different approach. Here's a revised Twitter post:\\n\\nThe ROBOTS are coming for our keyboards! AI agents are now capable of generating high-quality content, from blog posts to social media captions. Is this the end of human creativity as we know it? Or a new era of collaboration between humans and machines? #AIContent #RobotWriters\\n\\nLet me know if this one hits the mark or if you'd like me to try again!\", additional_kwargs={}, response_metadata={'token_usage': {'completion_tokens': 107, 'prompt_tokens': 151, 'total_tokens': 258, 'completion_time': 0.471689493, 'prompt_time': 0.005203451, 'queue_time': 0.177733788, 'total_time': 0.476892944}, 'model_name': 'llama3-70b-8192', 'system_fingerprint': 'fp_bf16903a67', 'finish_reason': 'stop', 'logprobs': None}, id='run--4562e91f-3722-403b-85bb-9e56d1361d4a-0', usage_metadata={'input_tokens': 151, 'output_tokens': 107, 'total_tokens': 258}), HumanMessage(content='', additional_kwargs={}, response_metadata={}, id='78b6605f-155d-4794-86d8-56fdba9bdb52'), AIMessage(content=\"You didn't provide any feedback again, but I'll assume you want me to try a different approach. Here's a revised Twitter post:\\n\\nCREATIVITY 2.0: AI agents are redefining the future of content creation! With the ability to generate, optimize, and personalize content at scale, the possibilities are endless! But what does this mean for the role of human creatives? Join the conversation! #AIinMarketing #ContentRevolution\\n\\nLet me know if this one resonates with you or if you'd like me to try again!\", additional_kwargs={}, response_metadata={'token_usage': {'completion_tokens': 114, 'prompt_tokens': 267, 'total_tokens': 381, 'completion_time': 0.491172978, 'prompt_time': 0.008792147, 'queue_time': 0.151568629, 'total_time': 0.499965125}, 'model_name': 'llama3-70b-8192', 'system_fingerprint': 'fp_bf16903a67', 'finish_reason': 'stop', 'logprobs': None}, id='run--691f22d4-a869-434d-9064-6491d5f2c5d1-0', usage_metadata={'input_tokens': 267, 'output_tokens': 114, 'total_tokens': 381}), HumanMessage(content='', additional_kwargs={}, response_metadata={}, id='2193d3b1-a314-4423-a1bd-342c492c0cc2'), AIMessage(content=\"You didn't provide any feedback again, but I'll assume you want me to try a different approach. Here's a revised Twitter post:\\n\\nCONTENT SHOCK: AI agents can produce high-quality content 5X FASTER and at 1/5 the cost! But at what cost to creativity and human touch? Will AI augment our abilities or replace us altogether? Share your thoughts! #AIinContent #FutureOfWork\\n\\nLet me know if this one hits the mark or if you'd like me to try again!\", additional_kwargs={}, response_metadata={'token_usage': {'completion_tokens': 105, 'prompt_tokens': 390, 'total_tokens': 495, 'completion_time': 0.391259318, 'prompt_time': 0.013612414, 'queue_time': 0.157331184, 'total_time': 0.404871732}, 'model_name': 'llama3-70b-8192', 'system_fingerprint': 'fp_bf16903a67', 'finish_reason': 'stop', 'logprobs': None}, id='run--42fa82d7-bb85-4c77-bfb7-50282b7eede1-0', usage_metadata={'input_tokens': 390, 'output_tokens': 105, 'total_tokens': 495})]\n"
     ]
    }
   ],
   "source": [
    "response = app.invoke(HumanMessage(content=\"AI Agents taking over content creation\"))\n",
    "print(response)"
   ]
  }
 ],
 "metadata": {
  "kernelspec": {
   "display_name": "venv",
   "language": "python",
   "name": "python3"
  },
  "language_info": {
   "codemirror_mode": {
    "name": "ipython",
    "version": 3
   },
   "file_extension": ".py",
   "mimetype": "text/x-python",
   "name": "python",
   "nbconvert_exporter": "python",
   "pygments_lexer": "ipython3",
   "version": "3.13.2"
  }
 },
 "nbformat": 4,
 "nbformat_minor": 5
}
