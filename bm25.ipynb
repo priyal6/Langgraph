{
 "cells": [
  {
   "cell_type": "code",
   "execution_count": 1,
   "id": "7fe18217",
   "metadata": {},
   "outputs": [],
   "source": [
    "from sklearn.preprocessing import MinMaxScaler\n",
    "import numpy as np"
   ]
  },
  {
   "cell_type": "code",
   "execution_count": 2,
   "id": "319b32df",
   "metadata": {},
   "outputs": [],
   "source": [
    "bm25_scores = np.array([12.0, 5.5, 2.3, 8.7])\n",
    "dense_scores = np.array([0.82, 0.45, 0.71, 0.30])"
   ]
  },
  {
   "cell_type": "code",
   "execution_count": 3,
   "id": "efcf949e",
   "metadata": {},
   "outputs": [],
   "source": [
    "scaler = MinMaxScaler()\n",
    "bm25_norm = scaler.fit_transform(bm25_scores.reshape(-1, 1)).flatten()\n",
    "dense_norm = scaler.fit_transform(dense_scores.reshape(-1, 1)).flatten()\n",
    "\n",
    "# Weighted fusion\n",
    "alpha = 0.5 \n",
    "final_scores = alpha * dense_norm + (1 - alpha) * bm25_norm"
   ]
  },
  {
   "cell_type": "code",
   "execution_count": 4,
   "id": "e74bd559",
   "metadata": {},
   "outputs": [
    {
     "name": "stdout",
     "output_type": "stream",
     "text": [
      "Final fused scores: [1.         0.30917922 0.39423077 0.32989691]\n",
      "Ranking order: [0 2 3 1]\n"
     ]
    }
   ],
   "source": [
    "ranked_indices = np.argsort(final_scores)[::-1]\n",
    "\n",
    "print(\"Final fused scores:\", final_scores)\n",
    "print(\"Ranking order:\", ranked_indices)"
   ]
  },
  {
   "cell_type": "code",
   "execution_count": 6,
   "id": "f12ced04",
   "metadata": {},
   "outputs": [
    {
     "name": "stderr",
     "output_type": "stream",
     "text": [
      "c:\\Users\\priya\\Downloads\\test\\venv\\Lib\\site-packages\\tqdm\\auto.py:21: TqdmWarning: IProgress not found. Please update jupyter and ipywidgets. See https://ipywidgets.readthedocs.io/en/stable/user_install.html\n",
      "  from .autonotebook import tqdm as notebook_tqdm\n"
     ]
    }
   ],
   "source": [
    "from rank_bm25 import BM25Okapi\n",
    "from sentence_transformers import SentenceTransformer\n",
    "import faiss\n",
    "import numpy as np\n",
    "from sklearn.preprocessing import MinMaxScaler"
   ]
  },
  {
   "cell_type": "code",
   "execution_count": 9,
   "id": "cc2fa1eb",
   "metadata": {},
   "outputs": [],
   "source": [
    "documents = [\n",
    "    \"The Eiffel Tower is located in Paris.\",\n",
    "    \"The capital of France is Paris.\",\n",
    "    \"Machine learning enables computers to learn from data.\",\n",
    "    \"Deep learning is a subset of machine learning.\",\n",
    "    \"The Colosseum is a famous landmark in Rome.\"\n",
    "]\n",
    "\n",
    "query = \"Where is the Eiffel Tower?\""
   ]
  },
  {
   "cell_type": "code",
   "execution_count": 10,
   "id": "77f78af6",
   "metadata": {},
   "outputs": [],
   "source": [
    "tokenized_corpus = [doc.split(\" \") for doc in documents]\n",
    "bm25 = BM25Okapi(tokenized_corpus)\n",
    "\n",
    "bm25_scores = bm25.get_scores(query.split(\" \"))"
   ]
  },
  {
   "cell_type": "code",
   "execution_count": 11,
   "id": "b3dbf824",
   "metadata": {},
   "outputs": [],
   "source": [
    "model = SentenceTransformer(\"all-MiniLM-L6-v2\")"
   ]
  },
  {
   "cell_type": "code",
   "execution_count": 12,
   "id": "2bfc15ea",
   "metadata": {},
   "outputs": [],
   "source": [
    "doc_embeddings = model.encode(documents, convert_to_numpy=True, normalize_embeddings=True)\n",
    "query_embedding = model.encode([query], convert_to_numpy=True, normalize_embeddings=True)\n"
   ]
  },
  {
   "cell_type": "code",
   "execution_count": 13,
   "id": "f2f53393",
   "metadata": {},
   "outputs": [],
   "source": [
    "dimension = doc_embeddings.shape[1]\n",
    "index = faiss.IndexFlatIP(dimension)  \n",
    "index.add(doc_embeddings)"
   ]
  },
  {
   "cell_type": "code",
   "execution_count": 14,
   "id": "c2c98a7b",
   "metadata": {},
   "outputs": [],
   "source": [
    "k = len(documents)\n",
    "scores_dense, indices_dense = index.search(query_embedding, k)\n",
    "dense_scores = scores_dense.flatten()"
   ]
  },
  {
   "cell_type": "code",
   "execution_count": 16,
   "id": "ef2ac564",
   "metadata": {},
   "outputs": [],
   "source": [
    "scaler = MinMaxScaler()\n",
    "\n",
    "bm25_norm = scaler.fit_transform(bm25_scores.reshape(-1, 1)).flatten()\n",
    "dense_norm = scaler.fit_transform(dense_scores.reshape(-1, 1)).flatten()"
   ]
  },
  {
   "cell_type": "code",
   "execution_count": 18,
   "id": "a5e78453",
   "metadata": {},
   "outputs": [],
   "source": [
    "alpha = 0.5  # weight for semantic similarity\n",
    "final_scores = alpha * dense_norm + (1 - alpha) * bm25_norm\n",
    "\n",
    "ranked_indices = np.argsort(final_scores)[::-1]"
   ]
  },
  {
   "cell_type": "code",
   "execution_count": 19,
   "id": "136e3cae",
   "metadata": {},
   "outputs": [
    {
     "name": "stdout",
     "output_type": "stream",
     "text": [
      "\n",
      "=== Hybrid Retrieval Results ===\n",
      "Score: 1.0000 | Doc: The Eiffel Tower is located in Paris.\n",
      "Score: 0.2688 | Doc: The capital of France is Paris.\n",
      "Score: 0.1480 | Doc: Machine learning enables computers to learn from data.\n",
      "Score: 0.0818 | Doc: Deep learning is a subset of machine learning.\n",
      "Score: 0.0742 | Doc: The Colosseum is a famous landmark in Rome.\n"
     ]
    }
   ],
   "source": [
    "print(\"\\n=== Hybrid Retrieval Results ===\")\n",
    "for idx in ranked_indices:\n",
    "    print(f\"Score: {final_scores[idx]:.4f} | Doc: {documents[idx]}\")"
   ]
  }
 ],
 "metadata": {
  "kernelspec": {
   "display_name": "venv",
   "language": "python",
   "name": "python3"
  },
  "language_info": {
   "codemirror_mode": {
    "name": "ipython",
    "version": 3
   },
   "file_extension": ".py",
   "mimetype": "text/x-python",
   "name": "python",
   "nbconvert_exporter": "python",
   "pygments_lexer": "ipython3",
   "version": "3.13.2"
  }
 },
 "nbformat": 4,
 "nbformat_minor": 5
}
