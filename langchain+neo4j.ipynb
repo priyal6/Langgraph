{
 "cells": [
  {
   "cell_type": "code",
   "execution_count": 19,
   "id": "3de9fe29",
   "metadata": {},
   "outputs": [],
   "source": [
    "from langchain_neo4j import GraphCypherQAChain, Neo4jGraph\n",
    "from langchain_groq import ChatGroq\n",
    "\n",
    "graph = Neo4jGraph(url = \"neo4j+s://d1a48238.databases.neo4j.io\", username=\"neo4j\", password = \"QdSbKKtvoMMJ2r7QqQzxnwTenh8Ps7paoa3_qriKKqU\")"
   ]
  },
  {
   "cell_type": "code",
   "execution_count": 20,
   "id": "e2f387cb",
   "metadata": {},
   "outputs": [
    {
     "data": {
      "text/plain": [
       "[]"
      ]
     },
     "execution_count": 20,
     "metadata": {},
     "output_type": "execute_result"
    }
   ],
   "source": [
    "graph.query(\n",
    "    \"\"\"\n",
    "MERGE (m:Movie {name:\"Top Gun\", runtime: 120})\n",
    "WITH m\n",
    "UNWIND [\"Tom Cruise\", \"Val Kilmer\", \"Anthony Edwards\", \"Meg Ryan\"] AS actor\n",
    "MERGE (a:Actor {name:actor})\n",
    "MERGE (a)-[:ACTED_IN]->(m)\n",
    "\"\"\"\n",
    "\n",
    ")"
   ]
  },
  {
   "cell_type": "code",
   "execution_count": 21,
   "id": "9a3d26c4",
   "metadata": {},
   "outputs": [],
   "source": [
    "graph.refresh_schema()"
   ]
  },
  {
   "cell_type": "code",
   "execution_count": 22,
   "id": "9a723d1c",
   "metadata": {},
   "outputs": [
    {
     "name": "stdout",
     "output_type": "stream",
     "text": [
      "Node properties:\n",
      "Document {doc_id: STRING, title: STRING, content: STRING}\n",
      "Person {person_id: STRING, name: STRING, bio: STRING}\n",
      "Movie {name: STRING, runtime: INTEGER}\n",
      "Actor {name: STRING}\n",
      "Relationship properties:\n",
      "\n",
      "The relationships:\n",
      "(:Person)-[:AUTHORED]->(:Document)\n",
      "(:Actor)-[:ACTED_IN]->(:Movie)\n"
     ]
    }
   ],
   "source": [
    "print(graph.schema)"
   ]
  },
  {
   "cell_type": "code",
   "execution_count": 23,
   "id": "6134004d",
   "metadata": {},
   "outputs": [
    {
     "name": "stdout",
     "output_type": "stream",
     "text": [
      "Node properties:\n",
      "- **Document**\n",
      "  - `doc_id`: STRING Available options: ['doc1', 'doc2', 'doc3']\n",
      "  - `title`: STRING Available options: ['GraphRAG overview', 'Neo4j basics', 'Hybrid search patterns']\n",
      "  - `content`: STRING Available options: ['GraphRAG combines graph knowledge with retrieval a', 'Neo4j is a graph database where nodes are connecte', 'Combine BM25/fulltext and vector similarity to get']\n",
      "- **Person**\n",
      "  - `person_id`: STRING Available options: ['alice']\n",
      "  - `name`: STRING Available options: ['Alice']\n",
      "  - `bio`: STRING Available options: ['Alice is a knowledge engineer interested in RAG.']\n",
      "- **Movie**\n",
      "  - `name`: STRING Available options: ['Top Gun']\n",
      "  - `runtime`: INTEGER Min: 120, Max: 120\n",
      "- **Actor**\n",
      "  - `name`: STRING Available options: ['Tom Cruise', 'Val Kilmer', 'Anthony Edwards', 'Meg Ryan']\n",
      "Relationship properties:\n",
      "\n",
      "The relationships:\n",
      "(:Person)-[:AUTHORED]->(:Document)\n",
      "(:Actor)-[:ACTED_IN]->(:Movie)\n"
     ]
    }
   ],
   "source": [
    "enchanced_graph = Neo4jGraph(\n",
    "    url = \"neo4j+s://d1a48238.databases.neo4j.io\",\n",
    "    username = \"neo4j\",\n",
    "    password = \"QdSbKKtvoMMJ2r7QqQzxnwTenh8Ps7paoa3_qriKKqU\",\n",
    "    enhanced_schema=True,\n",
    ")\n",
    "\n",
    "print(enchanced_graph.schema)"
   ]
  },
  {
   "cell_type": "code",
   "execution_count": 24,
   "id": "0f79a0db",
   "metadata": {},
   "outputs": [],
   "source": [
    "chain = GraphCypherQAChain.from_llm(\n",
    "    ChatGroq(model=\"llama-3.1-8b-instant\", temperature=0),\n",
    "    graph=graph,\n",
    "    verbose=True,\n",
    "    allow_dangerous_requests=True\n",
    ")"
   ]
  },
  {
   "cell_type": "code",
   "execution_count": 25,
   "id": "02b1d0ef",
   "metadata": {},
   "outputs": [
    {
     "name": "stdout",
     "output_type": "stream",
     "text": [
      "\n",
      "\n",
      "\u001b[1m> Entering new GraphCypherQAChain chain...\u001b[0m\n",
      "Generated Cypher:\n",
      "\u001b[32;1m\u001b[1;3mMATCH (a:Actor)-[:ACTED_IN]->(m:Movie)<-[:ACTED_IN]-(b:Actor) WHERE m.name = \"Top Gun\" RETURN b.name\u001b[0m\n",
      "Full Context:\n",
      "\u001b[32;1m\u001b[1;3m[{'b.name': 'Tom Cruise'}, {'b.name': 'Tom Cruise'}, {'b.name': 'Tom Cruise'}, {'b.name': 'Val Kilmer'}, {'b.name': 'Val Kilmer'}, {'b.name': 'Val Kilmer'}, {'b.name': 'Anthony Edwards'}, {'b.name': 'Anthony Edwards'}, {'b.name': 'Anthony Edwards'}, {'b.name': 'Meg Ryan'}]\u001b[0m\n",
      "\n",
      "\u001b[1m> Finished chain.\u001b[0m\n"
     ]
    },
    {
     "data": {
      "text/plain": [
       "{'query': 'Who played in Top Gun?',\n",
       " 'result': 'Tom Cruise, Val Kilmer, Anthony Edwards, Meg Ryan played in Top Gun.'}"
      ]
     },
     "execution_count": 25,
     "metadata": {},
     "output_type": "execute_result"
    }
   ],
   "source": [
    "chain.invoke({\"query\": \"Who played in Top Gun?\"})"
   ]
  },
  {
   "cell_type": "code",
   "execution_count": 26,
   "id": "d23ca0d0",
   "metadata": {},
   "outputs": [],
   "source": [
    "chain = GraphCypherQAChain.from_llm(\n",
    "    ChatGroq(model=\"llama-3.1-8b-instant\", temperature=0),\n",
    "    graph=graph,\n",
    "    verbose=True,\n",
    "    top_k=2,\n",
    "    allow_dangerous_requests=True,\n",
    ")"
   ]
  },
  {
   "cell_type": "code",
   "execution_count": 27,
   "id": "e91304a3",
   "metadata": {},
   "outputs": [
    {
     "name": "stdout",
     "output_type": "stream",
     "text": [
      "\n",
      "\n",
      "\u001b[1m> Entering new GraphCypherQAChain chain...\u001b[0m\n",
      "Generated Cypher:\n",
      "\u001b[32;1m\u001b[1;3mMATCH (a:Actor)-[:ACTED_IN]->(m:Movie)<-[:ACTED_IN]-(b:Actor) WHERE m.name = \"Top Gun\" RETURN b.name\u001b[0m\n",
      "Full Context:\n",
      "\u001b[32;1m\u001b[1;3m[{'b.name': 'Tom Cruise'}, {'b.name': 'Tom Cruise'}]\u001b[0m\n",
      "\n",
      "\u001b[1m> Finished chain.\u001b[0m\n"
     ]
    },
    {
     "data": {
      "text/plain": [
       "{'query': 'Who played in Top Gun?', 'result': 'Tom Cruise played in Top Gun.'}"
      ]
     },
     "execution_count": 27,
     "metadata": {},
     "output_type": "execute_result"
    }
   ],
   "source": [
    "chain.invoke({\"query\": \"Who played in Top Gun?\"})"
   ]
  },
  {
   "cell_type": "code",
   "execution_count": null,
   "id": "984227c0",
   "metadata": {},
   "outputs": [],
   "source": [
    "from langchain_core.prompts.prompt import PromptTemplate\n",
    "\n",
    "\n",
    "CYPHER_GENERATION_TEMPLATE = \"\"\"Task:Generate Cypher statement to query a graph database.\n",
    "Instructions:\n",
    "Use only the provided relationship types and properties in the schema.\n",
    "Do not use any other relationship types or properties that are not provided.\n",
    "Schema:\n",
    "{schema}\n",
    "Note: Do not include any explanations or apologies in your responses.\n",
    "Do not respond to any questions that might ask anything else than for you to construct a Cypher statement.\n",
    "Do not include any text except the generated Cypher statement.\n",
    "Examples: Here are a few examples of generated Cypher statements for particular questions:\n",
    "# How many people played in Top Gun?\n",
    "MATCH (m:Movie {{name:\"Top Gun\"}})<-[:ACTED_IN]-()\n",
    "RETURN count(*) AS numberOfActors\n",
    "\n",
    "The question is:\n",
    "{question}\"\"\"\n",
    "\n",
    "CYPHER_GENERATION_PROMPT = PromptTemplate(\n",
    "    input_variables = ['schema','question'], template = CYPHER_GENERATION_TEMPLATE\n",
    ")\n"
   ]
  },
  {
   "cell_type": "code",
   "execution_count": 30,
   "id": "65554b2a",
   "metadata": {},
   "outputs": [
    {
     "name": "stdout",
     "output_type": "stream",
     "text": [
      "\n",
      "\n",
      "\u001b[1m> Entering new GraphCypherQAChain chain...\u001b[0m\n",
      "Generated Cypher:\n",
      "\u001b[32;1m\u001b[1;3mMATCH (m:Movie {name:\"Top Gun\"})<-[:ACTED_IN]-()\n",
      "RETURN count(*) AS numberOfActors\u001b[0m\n",
      "Full Context:\n",
      "\u001b[32;1m\u001b[1;3m[{'numberOfActors': 4}]\u001b[0m\n",
      "\n",
      "\u001b[1m> Finished chain.\u001b[0m\n"
     ]
    },
    {
     "data": {
      "text/plain": [
       "{'query': 'How many people played in Top Gun?',\n",
       " 'result': \"I don't know the answer.\"}"
      ]
     },
     "execution_count": 30,
     "metadata": {},
     "output_type": "execute_result"
    }
   ],
   "source": [
    "\n",
    "chain = GraphCypherQAChain.from_llm(\n",
    "    ChatGroq(model = \"llama-3.1-8b-instant\", temperature = 0),\n",
    "    graph = graph,\n",
    "    verbose=True,\n",
    "    cypher_prompt = CYPHER_GENERATION_PROMPT,\n",
    "    allow_dangerous_requests = True,)\n",
    "\n",
    "\n",
    "\n",
    "\n",
    "\n",
    "\n",
    "chain.invoke({\"query\": \"How many people played in Top Gun?\"})"
   ]
  }
 ],
 "metadata": {
  "kernelspec": {
   "display_name": "venv",
   "language": "python",
   "name": "python3"
  },
  "language_info": {
   "codemirror_mode": {
    "name": "ipython",
    "version": 3
   },
   "file_extension": ".py",
   "mimetype": "text/x-python",
   "name": "python",
   "nbconvert_exporter": "python",
   "pygments_lexer": "ipython3",
   "version": "3.13.2"
  }
 },
 "nbformat": 4,
 "nbformat_minor": 5
}
