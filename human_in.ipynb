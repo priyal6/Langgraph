{
 "cells": [
  {
   "cell_type": "code",
   "execution_count": 11,
   "id": "f6ed112d",
   "metadata": {},
   "outputs": [],
   "source": [
    "from typing import TypedDict, Annotated\n",
    "from langchain_core.messages import HumanMessage\n",
    "from langgraph.graph import add_messages, StateGraph, END\n",
    "from langchain_groq import ChatGroq"
   ]
  },
  {
   "cell_type": "code",
   "execution_count": 12,
   "id": "0a8997fd",
   "metadata": {},
   "outputs": [],
   "source": [
    "class State(TypedDict):\n",
    "    messages: Annotated[list, add_messages]\n",
    "\n",
    "llm = ChatGroq(model=\"llama3-70b-8192\")\n",
    "\n",
    "GENERATE_POST = \"generate_post\"\n",
    "GET_REVIEW_DECISION = \"get_review\"\n",
    "POST=\"post\"\n",
    "COLLECT_FEEDBACK = \"collect_feedback\""
   ]
  },
  {
   "cell_type": "code",
   "execution_count": 13,
   "id": "d002812c",
   "metadata": {},
   "outputs": [],
   "source": [
    "def generate_post(state: State): \n",
    "    return {\n",
    "        \"messages\": [llm.invoke(state[\"messages\"])]\n",
    "    }"
   ]
  },
  {
   "cell_type": "code",
   "execution_count": 14,
   "id": "c4bf27be",
   "metadata": {},
   "outputs": [],
   "source": [
    "def get_review(state:State):\n",
    "    post_content = state['messages'][-1].content\n",
    "\n",
    "    print(\"Current Post: \")\n",
    "    print(post_content)\n",
    "    print(\"\\n\")\n",
    "\n",
    "    decision = input(\"Post (yes/no):\")\n",
    "\n",
    "    if decision.lower() == \"yes\":\n",
    "        return POST\n",
    "    else:\n",
    "        return COLLECT_FEEDBACK\n",
    "    \n",
    "\n",
    "def post(state: State):\n",
    "    final_post = state[\"messages\"][-1].content  \n",
    "    print(\" Final Post\")\n",
    "    print(final_post)\n",
    "    print(\" Post has been approved\")"
   ]
  },
  {
   "cell_type": "code",
   "execution_count": 15,
   "id": "f0befd3f",
   "metadata": {},
   "outputs": [],
   "source": [
    "def collect_feedback(state: State):  \n",
    "    feedback = input(\"How can I improve this post?\")\n",
    "    return {\n",
    "        \"messages\": [HumanMessage(content=feedback)]\n",
    "    }"
   ]
  },
  {
   "cell_type": "code",
   "execution_count": 16,
   "id": "adf618ee",
   "metadata": {},
   "outputs": [
    {
     "name": "stdout",
     "output_type": "stream",
     "text": [
      "Current Post: \n",
      "Here's a potential LinkedIn post on Lang Graph in agentic AI:\n",
      "\n",
      "**Title:** Unlocking the Power of Lang Graph in Agentic AI\n",
      "\n",
      "**Post:**\n",
      "\n",
      "As we continue to push the boundaries of artificial intelligence, one area that holds immense promise is Agentic AI. And within Agentic AI, Lang Graph is emerging as a game-changer. So, what is Lang Graph, and why should you care?\n",
      "\n",
      "**What is Lang Graph?**\n",
      "\n",
      "Lang Graph is a type of graph neural network that represents language as a graph structure, where words or phrases are nodes, and their relationships are edges. This allows AI models to capture complex semantic relationships between entities, events, and concepts, enabling more accurate and nuanced understanding of natural language.\n",
      "\n",
      "**The Power of Lang Graph in Agentic AI**\n",
      "\n",
      "In Agentic AI, Lang Graph takes on even greater significance. By integrating Lang Graph with agent-based models, we can create AI systems that not only understand language but also reason, learn, and adapt in response to changing contexts. This enables agents to engage in more human-like conversations, make more informed decisions, and even exhibit creativity and intuition.\n",
      "\n",
      "**Applications and Implications**\n",
      "\n",
      "The potential applications of Lang Graph in Agentic AI are vast and varied. For example:\n",
      "\n",
      "* **Conversational AI**: Lang Graph can enable chatbots and virtual assistants to understand user intent, respond more accurately, and even anticipate user needs.\n",
      "* **Decision Support Systems**: Agentic AI models with Lang Graph can analyze complex data sets, identify patterns, and provide more informed recommendations to decision-makers.\n",
      "* **Content Generation**: Lang Graph can be used to generate more coherent, contextual, and engaging content, such as chatbot responses, product descriptions, or even entire articles.\n",
      "\n",
      "**The Future of Lang Graph in Agentic AI**\n",
      "\n",
      "As we continue to advance Lang Graph and Agentic AI, we can expect to see even more sophisticated AI systems that can learn, reason, and interact with humans in increasingly natural and intuitive ways.\n",
      "\n",
      "**What do you think?** How do you see Lang Graph and Agentic AI shaping the future of AI research and applications? Share your thoughts and let's continue the conversation!\n",
      "\n",
      "**Hashtags:** #LangGraph #AgenticAI #ArtificialIntelligence #NaturalLanguageProcessing #GraphNeuralNetworks #AIResearch #AIApplications\n",
      "\n",
      "\n",
      " Final Post\n",
      "Here's a potential LinkedIn post on Lang Graph in agentic AI:\n",
      "\n",
      "**Title:** Unlocking the Power of Lang Graph in Agentic AI\n",
      "\n",
      "**Post:**\n",
      "\n",
      "As we continue to push the boundaries of artificial intelligence, one area that holds immense promise is Agentic AI. And within Agentic AI, Lang Graph is emerging as a game-changer. So, what is Lang Graph, and why should you care?\n",
      "\n",
      "**What is Lang Graph?**\n",
      "\n",
      "Lang Graph is a type of graph neural network that represents language as a graph structure, where words or phrases are nodes, and their relationships are edges. This allows AI models to capture complex semantic relationships between entities, events, and concepts, enabling more accurate and nuanced understanding of natural language.\n",
      "\n",
      "**The Power of Lang Graph in Agentic AI**\n",
      "\n",
      "In Agentic AI, Lang Graph takes on even greater significance. By integrating Lang Graph with agent-based models, we can create AI systems that not only understand language but also reason, learn, and adapt in response to changing contexts. This enables agents to engage in more human-like conversations, make more informed decisions, and even exhibit creativity and intuition.\n",
      "\n",
      "**Applications and Implications**\n",
      "\n",
      "The potential applications of Lang Graph in Agentic AI are vast and varied. For example:\n",
      "\n",
      "* **Conversational AI**: Lang Graph can enable chatbots and virtual assistants to understand user intent, respond more accurately, and even anticipate user needs.\n",
      "* **Decision Support Systems**: Agentic AI models with Lang Graph can analyze complex data sets, identify patterns, and provide more informed recommendations to decision-makers.\n",
      "* **Content Generation**: Lang Graph can be used to generate more coherent, contextual, and engaging content, such as chatbot responses, product descriptions, or even entire articles.\n",
      "\n",
      "**The Future of Lang Graph in Agentic AI**\n",
      "\n",
      "As we continue to advance Lang Graph and Agentic AI, we can expect to see even more sophisticated AI systems that can learn, reason, and interact with humans in increasingly natural and intuitive ways.\n",
      "\n",
      "**What do you think?** How do you see Lang Graph and Agentic AI shaping the future of AI research and applications? Share your thoughts and let's continue the conversation!\n",
      "\n",
      "**Hashtags:** #LangGraph #AgenticAI #ArtificialIntelligence #NaturalLanguageProcessing #GraphNeuralNetworks #AIResearch #AIApplications\n",
      " Post has been approved\n",
      "{'messages': [HumanMessage(content='Write me a LinkedIn post on Lang Graph in agentic ai', additional_kwargs={}, response_metadata={}, id='35309390-765a-43cc-b146-f4bd570f4155'), AIMessage(content=\"Here's a potential LinkedIn post on Lang Graph in agentic AI:\\n\\n**Title:** Unlocking the Power of Lang Graph in Agentic AI\\n\\n**Post:**\\n\\nAs we continue to push the boundaries of artificial intelligence, one area that holds immense promise is Agentic AI. And within Agentic AI, Lang Graph is emerging as a game-changer. So, what is Lang Graph, and why should you care?\\n\\n**What is Lang Graph?**\\n\\nLang Graph is a type of graph neural network that represents language as a graph structure, where words or phrases are nodes, and their relationships are edges. This allows AI models to capture complex semantic relationships between entities, events, and concepts, enabling more accurate and nuanced understanding of natural language.\\n\\n**The Power of Lang Graph in Agentic AI**\\n\\nIn Agentic AI, Lang Graph takes on even greater significance. By integrating Lang Graph with agent-based models, we can create AI systems that not only understand language but also reason, learn, and adapt in response to changing contexts. This enables agents to engage in more human-like conversations, make more informed decisions, and even exhibit creativity and intuition.\\n\\n**Applications and Implications**\\n\\nThe potential applications of Lang Graph in Agentic AI are vast and varied. For example:\\n\\n* **Conversational AI**: Lang Graph can enable chatbots and virtual assistants to understand user intent, respond more accurately, and even anticipate user needs.\\n* **Decision Support Systems**: Agentic AI models with Lang Graph can analyze complex data sets, identify patterns, and provide more informed recommendations to decision-makers.\\n* **Content Generation**: Lang Graph can be used to generate more coherent, contextual, and engaging content, such as chatbot responses, product descriptions, or even entire articles.\\n\\n**The Future of Lang Graph in Agentic AI**\\n\\nAs we continue to advance Lang Graph and Agentic AI, we can expect to see even more sophisticated AI systems that can learn, reason, and interact with humans in increasingly natural and intuitive ways.\\n\\n**What do you think?** How do you see Lang Graph and Agentic AI shaping the future of AI research and applications? Share your thoughts and let's continue the conversation!\\n\\n**Hashtags:** #LangGraph #AgenticAI #ArtificialIntelligence #NaturalLanguageProcessing #GraphNeuralNetworks #AIResearch #AIApplications\", additional_kwargs={}, response_metadata={'token_usage': {'completion_tokens': 468, 'prompt_tokens': 22, 'total_tokens': 490, 'completion_time': 1.707444099, 'prompt_time': 0.000369695, 'queue_time': 0.150423209, 'total_time': 1.707813794}, 'model_name': 'llama3-70b-8192', 'system_fingerprint': 'fp_bf16903a67', 'finish_reason': 'stop', 'logprobs': None}, id='run--7f4623c1-4227-4924-9333-559bd2207426-0', usage_metadata={'input_tokens': 22, 'output_tokens': 468, 'total_tokens': 490})]}\n"
     ]
    }
   ],
   "source": [
    "graph = StateGraph(State)\n",
    "\n",
    "graph.add_node(GENERATE_POST, generate_post)\n",
    "graph.add_node(GET_REVIEW_DECISION, get_review)\n",
    "graph.add_node(COLLECT_FEEDBACK, collect_feedback)\n",
    "graph.add_node(POST, post)\n",
    "\n",
    "graph.set_entry_point(GENERATE_POST)\n",
    "\n",
    "graph.add_conditional_edges(GENERATE_POST, get_review)\n",
    "graph.add_edge(POST, END)\n",
    "graph.add_edge(COLLECT_FEEDBACK, GENERATE_POST)\n",
    "\n",
    "app = graph.compile()\n",
    "\n",
    "response = app.invoke({\n",
    "    \"messages\": [HumanMessage(content=\"Write me a LinkedIn post on Lang Graph in agentic ai\")]\n",
    "})\n",
    "\n",
    "print(response)"
   ]
  }
 ],
 "metadata": {
  "kernelspec": {
   "display_name": "venv",
   "language": "python",
   "name": "python3"
  },
  "language_info": {
   "codemirror_mode": {
    "name": "ipython",
    "version": 3
   },
   "file_extension": ".py",
   "mimetype": "text/x-python",
   "name": "python",
   "nbconvert_exporter": "python",
   "pygments_lexer": "ipython3",
   "version": "3.13.2"
  }
 },
 "nbformat": 4,
 "nbformat_minor": 5
}
