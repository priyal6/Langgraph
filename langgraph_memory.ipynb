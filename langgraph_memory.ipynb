{
 "cells": [
  {
   "cell_type": "code",
   "execution_count": 10,
   "id": "26e8f570",
   "metadata": {},
   "outputs": [],
   "source": [
    "from typing import Annotated\n",
    "\n",
    "from langchain_groq import ChatGroq\n",
    "from langchain_tavily import TavilySearch\n",
    "from langchain_core.messages import BaseMessage\n",
    "from typing_extensions import TypedDict\n",
    "from langchain_core.messages import HumanMessage\n",
    "from langgraph.checkpoint.memory import MemorySaver\n",
    "from langgraph.graph import StateGraph\n",
    "from langgraph.graph.message import add_messages\n",
    "from langgraph.prebuilt import ToolNode, tools_condition"
   ]
  },
  {
   "cell_type": "code",
   "execution_count": 11,
   "id": "804c9ac6",
   "metadata": {},
   "outputs": [],
   "source": [
    "class State(TypedDict):\n",
    "    messages: Annotated[list, add_messages]\n",
    "\n",
    "graph_builder = StateGraph(State)"
   ]
  },
  {
   "cell_type": "code",
   "execution_count": 12,
   "id": "46f0e990",
   "metadata": {},
   "outputs": [],
   "source": [
    "llm = ChatGroq(model_name = \"llama3-70b-8192\")\n",
    "\n",
    "tool = TavilySearch(max_results=2)\n",
    "tools = [tool]\n",
    "llm_with_tools = llm.bind_tools(tools)"
   ]
  },
  {
   "cell_type": "code",
   "execution_count": 13,
   "id": "b3cacb9f",
   "metadata": {},
   "outputs": [
    {
     "data": {
      "text/plain": [
       "<langgraph.graph.state.StateGraph at 0x157feea3890>"
      ]
     },
     "execution_count": 13,
     "metadata": {},
     "output_type": "execute_result"
    }
   ],
   "source": [
    "def chatbot(state: State):\n",
    "    return {\"messages\": [llm_with_tools.invoke(state[\"messages\"])]}\n",
    "\n",
    "graph_builder.add_node(\"chatbot\", chatbot)\n",
    "\n",
    "tool_node = ToolNode(tools=[tool])\n",
    "graph_builder.add_node(\"tools\", tool_node)\n",
    "\n",
    "graph_builder.add_conditional_edges(\n",
    "    \"chatbot\",\n",
    "    tools_condition,\n",
    ")\n",
    "graph_builder.add_edge(\"tools\", \"chatbot\")\n",
    "graph_builder.set_entry_point(\"chatbot\")"
   ]
  },
  {
   "cell_type": "code",
   "execution_count": 14,
   "id": "b4b0ad28",
   "metadata": {},
   "outputs": [],
   "source": [
    "memory = MemorySaver()\n",
    "graph = graph_builder.compile(checkpointer=memory)"
   ]
  },
  {
   "cell_type": "code",
   "execution_count": 15,
   "id": "72b2a5cb",
   "metadata": {},
   "outputs": [
    {
     "name": "stdout",
     "output_type": "stream",
     "text": [
      "Chatbot ready! Type 'quit' to exit.\n",
      "Bot: heyyyyyyyyyyyy{\"query\": \"heyyyyyyyyyyyy\", \"follow_up_questions\": null, \"answer\": null, \"images\": [], \"results\": [{\"url\": \"https://heyyyyyyyyyyyy.com/\", \"title\": \"heyyyyyyyyyyyy.com | email with *nuance*\", \"content\": \"Minimalism at its best. heyyyyyyyyyyyy.com is literally just an email address, nothing else. Couldn't be simpler! No ads. No tracking. No promotions.\", \"score\": 0.7892503, \"raw_content\": null}, {\"url\": \"https://www.youtube.com/watch?v=ZZ5LpwO-An4&pp=0gcJCfwAo7VqN5tD\", \"title\": \"HEYYEYAAEYAAAEYAEYAA - YouTube\", \"content\": \"MWYAAAH please note I do not own this video.\", \"score\": 0.24211644, \"raw_content\": null}], \"response_time\": 1.21}It seems like the tool call yielded a list of search results for the query \"heyyyyyyyyyyyy\". The results include a few websites and a YouTube video. However, there is no clear answer to the query. It seems like the user might be looking for information or clarification on what \"heyyyyyyyyyyyy\" is or means.\n",
      "\n",
      "Here's a possible response:\n",
      "\n",
      "It looks like \"heyyyyyyyyyyyy\" might be a username or a website domain. The search results show a few websites and a YouTube video, but it's not clear what you're looking for. Could you please provide more context or clarify what you mean by \"heyyyyyyyyyyyy\"?\n",
      "Bot: {\"query\": \"What does heyyyyyyyyyyyy mean\", \"follow_up_questions\": null, \"answer\": null, \"images\": [], \"results\": [{\"url\": \"https://www.quora.com/What-does-it-mean-when-a-girl-texts-heyyyyy-and-not-just-hey\", \"title\": \"What does it mean when a girl texts “heyyyyy” and not just “ ...\", \"content\": \"It might simply mean a more casual and “edgy” version of “hey,” or “hi.” Or, she might be signaling something like, “I think that I like you (or am attracted\", \"score\": 0.6219319, \"raw_content\": null}, {\"url\": \"https://www.reddit.com/r/AskWomen/comments/7iyfiq/does_hey_heyy_and_heyyy_mean_more_than_a_simple/\", \"title\": \"Does \\\"hey, heyy, and heyyy\\\" mean more than a simple ...\", \"content\": \"More Ys are usually for someone I am close to and/or for a casual or goofy conversation. It's sort of a marker for tone. It makes a sentence sound more laid-\", \"score\": 0.4680374, \"raw_content\": null}], \"response_time\": 1.24}Based on the search results, it seems that \"heyyyyyyyyyyyy\" is likely a casual or playful way of saying \"hello\" or \"hi\", often used in informal texting or online communication. The extra \"y\"s might indicate a more friendly or flirtatious tone.\n",
      "\n",
      "Here's a possible response:\n",
      "\n",
      "It seems like \"heyyyyyyyyyyyy\" is a casual way of saying \"hello\" or \"hi\", often used in texting or online communication. The extra \"y\"s might make it sound more friendly or playful. It's possible that the person using this greeting is trying to convey a more laid-back or affectionate tone.\n"
     ]
    }
   ],
   "source": [
    "def run_chatbot():\n",
    "    config = {\"configurable\": {\"thread_id\": \"1\"}}\n",
    "    \n",
    "    print(\"Chatbot ready! Type 'quit' to exit.\")\n",
    "    \n",
    "    while True:\n",
    "        user_input = input(\"\\nYou: \")\n",
    "        if user_input.lower() in ['quit', 'exit']:\n",
    "            break\n",
    "        \n",
    "        print(\"Bot: \", end=\"\", flush=True)\n",
    "        \n",
    "        # Stream the response\n",
    "        events = graph.stream(\n",
    "            {\"messages\": [HumanMessage(content=user_input)]},\n",
    "            config,\n",
    "            stream_mode=\"values\"\n",
    "        )\n",
    "        \n",
    "        for event in events:\n",
    "            if \"messages\" in event:\n",
    "                last_message = event[\"messages\"][-1]\n",
    "                if hasattr(last_message, 'content'):\n",
    "                    print(last_message.content, end=\"\", flush=True)\n",
    "        \n",
    "        print() \n",
    "if __name__ == \"__main__\":\n",
    "    # Choose one:\n",
    "    run_chatbot() "
   ]
  }
 ],
 "metadata": {
  "kernelspec": {
   "display_name": "venv",
   "language": "python",
   "name": "python3"
  },
  "language_info": {
   "codemirror_mode": {
    "name": "ipython",
    "version": 3
   },
   "file_extension": ".py",
   "mimetype": "text/x-python",
   "name": "python",
   "nbconvert_exporter": "python",
   "pygments_lexer": "ipython3",
   "version": "3.13.2"
  }
 },
 "nbformat": 4,
 "nbformat_minor": 5
}
